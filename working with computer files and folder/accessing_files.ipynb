{
 "cells": [
  {
   "cell_type": "code",
   "execution_count": 2,
   "metadata": {},
   "outputs": [
    {
     "name": "stdout",
     "output_type": "stream",
     "text": [
      "Content 1\n"
     ]
    }
   ],
   "source": [
    "file_path = 'D://Python//Python_Automation//Resouces//abc.txt'\n",
    "\n",
    "with open(file_path, 'r') as file:\n",
    "    print(file.read())\n"
   ]
  },
  {
   "cell_type": "code",
   "execution_count": 4,
   "metadata": {},
   "outputs": [
    {
     "name": "stdout",
     "output_type": "stream",
     "text": [
      "D:\\Python\\Python_Automation\\Resouces\\abc.txt\n",
      "<class 'pathlib.WindowsPath'>\n"
     ]
    }
   ],
   "source": [
    "from pathlib import Path\n",
    "\n",
    "file_path = Path('D://Python//Python_Automation//Resouces//abc.txt')\n",
    "print(file_path)\n",
    "print(type(file_path))"
   ]
  },
  {
   "cell_type": "code",
   "execution_count": 6,
   "metadata": {},
   "outputs": [
    {
     "name": "stdout",
     "output_type": "stream",
     "text": [
      "Content 1\n"
     ]
    }
   ],
   "source": [
    "if file_path.exists():      #to check if the file exists if exists then read file\n",
    "    with open(file_path, 'r') as file:\n",
    "        print(file.read())\n",
    "    "
   ]
  },
  {
   "cell_type": "code",
   "execution_count": 11,
   "metadata": {},
   "outputs": [
    {
     "name": "stdout",
     "output_type": "stream",
     "text": [
      "Content 3\n"
     ]
    }
   ],
   "source": [
    "from pathlib import Path\n",
    "\n",
    "file_path = Path('D://Python//Python_Automation//Resouces//abc2.txt')\n",
    "\n",
    "if not file_path.exists():\n",
    "    with open(file_path, 'w') as file:\n",
    "        file.write('Content 3')\n",
    "else:\n",
    "    with open(file_path, 'r') as file:\n",
    "        print(file.read())\n"
   ]
  },
  {
   "cell_type": "code",
   "execution_count": 14,
   "metadata": {},
   "outputs": [
    {
     "name": "stdout",
     "output_type": "stream",
     "text": [
      "abc2.txt\n",
      "abc2\n",
      ".txt\n"
     ]
    }
   ],
   "source": [
    "from pathlib import Path\n",
    "\n",
    "file_path = Path('D://Python//Python_Automation//Resouces//abc2.txt')\n",
    "\n",
    "print(file_path.name)\n",
    "print(file_path.stem)\n",
    "print(file_path.suffix)"
   ]
  },
  {
   "cell_type": "code",
   "execution_count": 15,
   "metadata": {},
   "outputs": [
    {
     "name": "stdout",
     "output_type": "stream",
     "text": [
      "<generator object Path.iterdir at 0x0000020FD0A58450>\n"
     ]
    }
   ],
   "source": [
    "from pathlib import Path\n",
    "\n",
    "file_path = Path('D://Python//Python_Automation//Resouces')\n",
    "\n",
    "print(file_path.iterdir())"
   ]
  },
  {
   "cell_type": "code",
   "execution_count": 18,
   "metadata": {},
   "outputs": [
    {
     "name": "stdout",
     "output_type": "stream",
     "text": [
      "D:\\Python\\Python_Automation\\Resouces\\abc.txt\n",
      "D:\\Python\\Python_Automation\\Resouces\\abc2.txt\n",
      "D:\\Python\\Python_Automation\\Resouces\\Archive.zip\n",
      "D:\\Python\\Python_Automation\\Resouces\\data\n",
      "D:\\Python\\Python_Automation\\Resouces\\data.csv\n",
      "D:\\Python\\Python_Automation\\Resouces\\data.txt\n",
      "D:\\Python\\Python_Automation\\Resouces\\def.txt\n",
      "D:\\Python\\Python_Automation\\Resouces\\ghi.txt\n",
      "D:\\Python\\Python_Automation\\Resouces\\News+API+Example+URL (1).txt\n",
      "D:\\Python\\Python_Automation\\Resouces\\News+API+Example+URL.txt\n",
      "D:\\Python\\Python_Automation\\Resouces\\sample.txt\n",
      "D:\\Python\\Python_Automation\\Resouces\\stock\n"
     ]
    }
   ],
   "source": [
    "for item in file_path.iterdir():\n",
    "    print(item)"
   ]
  },
  {
   "cell_type": "code",
   "execution_count": 25,
   "metadata": {},
   "outputs": [
    {
     "name": "stdout",
     "output_type": "stream",
     "text": [
      "abc.txt , abc , .txt\n",
      "abc2.txt , abc2 , .txt\n",
      "Archive.zip , Archive , .zip\n",
      "data , data , \n",
      "data.csv , data , .csv\n",
      "data.txt , data , .txt\n",
      "def.txt , def , .txt\n",
      "ghi.txt , ghi , .txt\n",
      "News+API+Example+URL (1).txt , News+API+Example+URL (1) , .txt\n",
      "News+API+Example+URL.txt , News+API+Example+URL , .txt\n",
      "sample.txt , sample , .txt\n",
      "stock , stock , \n",
      "[WindowsPath('D:/Python/Python_Automation/Resouces/abc.txt'), WindowsPath('D:/Python/Python_Automation/Resouces/abc2.txt'), WindowsPath('D:/Python/Python_Automation/Resouces/Archive.zip'), WindowsPath('D:/Python/Python_Automation/Resouces/data'), WindowsPath('D:/Python/Python_Automation/Resouces/data.csv'), WindowsPath('D:/Python/Python_Automation/Resouces/data.txt'), WindowsPath('D:/Python/Python_Automation/Resouces/def.txt'), WindowsPath('D:/Python/Python_Automation/Resouces/ghi.txt'), WindowsPath('D:/Python/Python_Automation/Resouces/News+API+Example+URL (1).txt'), WindowsPath('D:/Python/Python_Automation/Resouces/News+API+Example+URL.txt'), WindowsPath('D:/Python/Python_Automation/Resouces/sample.txt'), WindowsPath('D:/Python/Python_Automation/Resouces/stock')]\n"
     ]
    }
   ],
   "source": [
    "for item in file_path.iterdir():\n",
    "    print(item.name, ',', item.stem, ',', item.suffix,)\n",
    "print(list(file_path.iterdir()))"
   ]
  },
  {
   "cell_type": "code",
   "execution_count": null,
   "metadata": {},
   "outputs": [],
   "source": []
  }
 ],
 "metadata": {
  "kernelspec": {
   "display_name": "venv",
   "language": "python",
   "name": "python3"
  },
  "language_info": {
   "codemirror_mode": {
    "name": "ipython",
    "version": 3
   },
   "file_extension": ".py",
   "mimetype": "text/x-python",
   "name": "python",
   "nbconvert_exporter": "python",
   "pygments_lexer": "ipython3",
   "version": "3.12.1"
  }
 },
 "nbformat": 4,
 "nbformat_minor": 2
}
