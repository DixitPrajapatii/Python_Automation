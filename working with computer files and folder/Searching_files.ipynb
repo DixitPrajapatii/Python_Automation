{
 "cells": [
  {
   "cell_type": "code",
   "execution_count": 17,
   "metadata": {},
   "outputs": [
    {
     "name": "stdout",
     "output_type": "stream",
     "text": [
      "D:\\Python\\Python_Automation\\Resouces\\file_opearation\\empty_files\\11.txt\n",
      "D:\\Python\\Python_Automation\\Resouces\\file_opearation\\empty_files\\archiving\\Python\\Python_Automation\\Resouces\\file_opearation\\empty_files\\11.txt\n"
     ]
    }
   ],
   "source": [
    "from pathlib import Path\n",
    "import zipfile\n",
    "\n",
    "root_dir = Path('D://Python//Python_Automation//Resouces//file_opearation')\n",
    "search_item = '11'\n",
    "search_item_suffix = '.txt'\n",
    "for path in root_dir.rglob('*'):\n",
    "    if path.is_file():\n",
    "        if search_item in path.stem and search_item_suffix in path.suffix:\n",
    "            print(path.absolute())"
   ]
  },
  {
   "cell_type": "code",
   "execution_count": null,
   "metadata": {},
   "outputs": [],
   "source": []
  }
 ],
 "metadata": {
  "kernelspec": {
   "display_name": "Python 3",
   "language": "python",
   "name": "python3"
  },
  "language_info": {
   "codemirror_mode": {
    "name": "ipython",
    "version": 3
   },
   "file_extension": ".py",
   "mimetype": "text/x-python",
   "name": "python",
   "nbconvert_exporter": "python",
   "pygments_lexer": "ipython3",
   "version": "3.12.1"
  }
 },
 "nbformat": 4,
 "nbformat_minor": 2
}
