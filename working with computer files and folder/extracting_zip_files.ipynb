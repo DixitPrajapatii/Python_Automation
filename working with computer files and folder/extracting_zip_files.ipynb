{
 "cells": [
  {
   "cell_type": "code",
   "execution_count": 2,
   "metadata": {},
   "outputs": [],
   "source": [
    "from pathlib import Path\n",
    "import zipfile\n",
    "\n",
    "root_dir = Path('D://Python//Python_Automation//Resouces//file_opearation//empty_files')\n",
    "destination_path = Path('D://Python//Python_Automation//Resouces//file_opearation//empty_files//archiving')\n",
    "\n",
    "for path in root_dir.glob('*.zip'):\n",
    "    with zipfile.ZipFile(path, 'r') as zf:\n",
    "        final_path = destination_path /Path(path.stem)\n",
    "        zf.extractall(path=destination_path)"
   ]
  },
  {
   "cell_type": "code",
   "execution_count": null,
   "metadata": {},
   "outputs": [],
   "source": [
    "\n"
   ]
  }
 ],
 "metadata": {
  "kernelspec": {
   "display_name": "Python 3",
   "language": "python",
   "name": "python3"
  },
  "language_info": {
   "codemirror_mode": {
    "name": "ipython",
    "version": 3
   },
   "file_extension": ".py",
   "mimetype": "text/x-python",
   "name": "python",
   "nbconvert_exporter": "python",
   "pygments_lexer": "ipython3",
   "version": "3.12.1"
  }
 },
 "nbformat": 4,
 "nbformat_minor": 2
}
