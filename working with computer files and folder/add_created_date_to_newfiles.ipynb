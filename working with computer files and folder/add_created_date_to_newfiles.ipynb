{
 "cells": [
  {
   "cell_type": "code",
   "execution_count": 24,
   "metadata": {},
   "outputs": [],
   "source": [
    "from pathlib import Path\n",
    "from datetime import datetime"
   ]
  },
  {
   "cell_type": "code",
   "execution_count": 35,
   "metadata": {},
   "outputs": [
    {
     "name": "stdout",
     "output_type": "stream",
     "text": [
      "os.stat_result(st_mode=33206, st_ino=1407374883575662, st_dev=15008420208117190202, st_nlink=1, st_uid=0, st_gid=0, st_size=0, st_atime=1714982100, st_mtime=1714982100, st_ctime=1714982100)\n",
      "1714982100.68851\n",
      "2024-05-06 13:25:00.688510\n",
      "2024-05-06_13:25:00\n"
     ]
    }
   ],
   "source": [
    "path = Path('D://Python//Python_Automation//Resouces//file_opearation//datetimefile.txt')\n",
    "stats = path.stat()\n",
    "second_created = stats.st_ctime\n",
    "date_created = datetime.fromtimestamp(second_created)\n",
    "date_created_str = date_created.strftime('%Y-%m-%d_%H:%M:%S')\n",
    "print(stats)\n",
    "print(second_created)\n",
    "print(date_created)\n",
    "print(date_created_str)"
   ]
  },
  {
   "cell_type": "code",
   "execution_count": null,
   "metadata": {},
   "outputs": [],
   "source": []
  }
 ],
 "metadata": {
  "kernelspec": {
   "display_name": "Python 3",
   "language": "python",
   "name": "python3"
  },
  "language_info": {
   "codemirror_mode": {
    "name": "ipython",
    "version": 3
   },
   "file_extension": ".py",
   "mimetype": "text/x-python",
   "name": "python",
   "nbconvert_exporter": "python",
   "pygments_lexer": "ipython3",
   "version": "3.12.1"
  }
 },
 "nbformat": 4,
 "nbformat_minor": 2
}
