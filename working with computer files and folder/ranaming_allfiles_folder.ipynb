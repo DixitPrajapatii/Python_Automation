{
 "cells": [
  {
   "cell_type": "code",
   "execution_count": 15,
   "metadata": {},
   "outputs": [],
   "source": [
    "from pathlib import Path\n",
    "\n",
    "root_dir = Path('D://Python//Python_Automation//Resouces//file_opearation')\n",
    "file_path = root_dir.glob('**/*')\n",
    "\n",
    "for path in file_path:\n",
    "    if path.is_file():\n",
    "        parent_folder = path.parts[-2]\n",
    "        new_file_name = parent_folder + '-' + path.name\n",
    "        new_file_path = path.with_name(new_file_name)\n",
    "        path.rename(new_file_path)"
   ]
  },
  {
   "cell_type": "code",
   "execution_count": null,
   "metadata": {},
   "outputs": [],
   "source": []
  }
 ],
 "metadata": {
  "kernelspec": {
   "display_name": "Python 3",
   "language": "python",
   "name": "python3"
  },
  "language_info": {
   "codemirror_mode": {
    "name": "ipython",
    "version": 3
   },
   "file_extension": ".py",
   "mimetype": "text/x-python",
   "name": "python",
   "nbconvert_exporter": "python",
   "pygments_lexer": "ipython3",
   "version": "3.12.1"
  }
 },
 "nbformat": 4,
 "nbformat_minor": 2
}
