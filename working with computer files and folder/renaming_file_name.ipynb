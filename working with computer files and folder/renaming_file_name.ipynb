{
 "cells": [
  {
   "cell_type": "code",
   "execution_count": 6,
   "metadata": {},
   "outputs": [],
   "source": [
    "from pathlib import Path\n",
    "\n",
    "root_dir = Path('D://Python//Python_Automation//Resouces//file_opearation')\n",
    "file_path = root_dir.iterdir()\n",
    "\n",
    "for path in file_path:\n",
    "    new_file_name = \"new-\" + path.stem + path.suffix\n",
    "    new_file_path = Path(f'D://Python//Python_Automation//Resouces//file_opearation//{new_file_name}')\n",
    "    path.rename(new_file_path)\n"
   ]
  },
  {
   "cell_type": "code",
   "execution_count": null,
   "metadata": {},
   "outputs": [],
   "source": []
  }
 ],
 "metadata": {
  "kernelspec": {
   "display_name": "Python 3",
   "language": "python",
   "name": "python3"
  },
  "language_info": {
   "codemirror_mode": {
    "name": "ipython",
    "version": 3
   },
   "file_extension": ".py",
   "mimetype": "text/x-python",
   "name": "python",
   "nbconvert_exporter": "python",
   "pygments_lexer": "ipython3",
   "version": "3.12.1"
  }
 },
 "nbformat": 4,
 "nbformat_minor": 2
}
